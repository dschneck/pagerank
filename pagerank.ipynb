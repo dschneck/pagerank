{
 "cells": [
  {
   "cell_type": "markdown",
   "metadata": {},
   "source": [
    " ### Existing code from the online assignment"
   ]
  },
  {
   "cell_type": "code",
   "execution_count": 11,
   "metadata": {},
   "outputs": [],
   "source": [
    "import os\n",
    "import random\n",
    "import re\n",
    "import sys\n",
    "\n",
    "DAMPING = 0.85\n",
    "SAMPLES = 10000"
   ]
  },
  {
   "cell_type": "code",
   "execution_count": 15,
   "metadata": {},
   "outputs": [],
   "source": [
    "def crawl(directory):\n",
    "    \"\"\"\n",
    "    Parse a directory of HTML pages and check for links to other pages.\n",
    "    Return a dictionary where each key is a page, and values are\n",
    "    a list of all other pages in the corpus that are linked to by the page.\n",
    "    \"\"\"\n",
    "    pages = dict()\n",
    "\n",
    "    # Extract all links from HTML files\n",
    "    for filename in os.listdir(directory):\n",
    "        if not filename.endswith(\".html\"):\n",
    "            continue\n",
    "        with open(os.path.join(directory, filename)) as f:\n",
    "            contents = f.read()\n",
    "            links = re.findall(r\"<a\\s+(?:[^>]*?)href=\\\"([^\\\"]*)\\\"\", contents)\n",
    "            pages[filename] = set(links) - {filename}\n",
    "\n",
    "    # Only include links to other pages in the corpus\n",
    "    for filename in pages:\n",
    "        pages[filename] = set(\n",
    "            link for link in pages[filename]\n",
    "            if link in pages\n",
    "        )\n",
    "\n",
    "    return pages"
   ]
  },
  {
   "cell_type": "code",
   "execution_count": 8,
   "metadata": {},
   "outputs": [],
   "source": [
    "def transition_model(corpus, page, damping_factor):\n",
    "    \"\"\"\n",
    "    Return a probability distribution over which page to visit next,\n",
    "    given a current page.\n",
    "\n",
    "    With probability `damping_factor`, choose a link at random\n",
    "    linked to by `page`. With probability `1 - damping_factor`, choose\n",
    "    a link at random chosen from all pages in the corpus.\n",
    "    \"\"\"\n",
    "    raise NotImplementedError"
   ]
  },
  {
   "cell_type": "code",
   "execution_count": 9,
   "metadata": {},
   "outputs": [],
   "source": [
    "def sample_pagerank(corpus, damping_factor, n):\n",
    "    \"\"\"\n",
    "    Return PageRank values for each page by sampling `n` pages\n",
    "    according to transition model, starting with a page at random.\n",
    "\n",
    "    Return a dictionary where keys are page names, and values are\n",
    "    their estimated PageRank value (a value between 0 and 1). All\n",
    "    PageRank values should sum to 1.\n",
    "    \"\"\"\n",
    "    raise NotImplementedError"
   ]
  },
  {
   "cell_type": "code",
   "execution_count": 10,
   "metadata": {},
   "outputs": [],
   "source": [
    "def iterate_pagerank(corpus, damping_factor):\n",
    "    \"\"\"\n",
    "    Return PageRank values for each page by iteratively updating\n",
    "    PageRank values until convergence.\n",
    "\n",
    "    Return a dictionary where keys are page names, and values are\n",
    "    their estimated PageRank value (a value between 0 and 1). All\n",
    "    PageRank values should sum to 1.\n",
    "    \"\"\"\n",
    "    raise NotImplementedError"
   ]
  },
  {
   "cell_type": "code",
   "execution_count": 16,
   "metadata": {},
   "outputs": [
    {
     "name": "stdout",
     "output_type": "stream",
     "text": [
      "{}\n"
     ]
    }
   ],
   "source": [
    "def main():\n",
    "\n",
    "    corpus = crawl(\"testdirectory\")\n",
    "    print(corpus)\n",
    "    # ranks = sample_pagerank(corpus, DAMPING, SAMPLES)\n",
    "    # print(f\"PageRank Results from Sampling (n = {SAMPLES})\")\n",
    "    # for page in sorted(ranks):\n",
    "    #     print(f\"  {page}: {ranks[page]:.4f}\")\n",
    "    # ranks = iterate_pagerank(corpus, DAMPING)\n",
    "    # print(f\"PageRank Results from Iteration\")\n",
    "    # for page in sorted(ranks):\n",
    "    #     print(f\"  {page}: {ranks[page]:.4f}\")\n",
    "\n",
    "main()"
   ]
  }
 ],
 "metadata": {
  "kernelspec": {
   "display_name": "Python 3.10.8 64-bit",
   "language": "python",
   "name": "python3"
  },
  "language_info": {
   "codemirror_mode": {
    "name": "ipython",
    "version": 3
   },
   "file_extension": ".py",
   "mimetype": "text/x-python",
   "name": "python",
   "nbconvert_exporter": "python",
   "pygments_lexer": "ipython3",
   "version": "3.10.8"
  },
  "orig_nbformat": 4,
  "vscode": {
   "interpreter": {
    "hash": "369f2c481f4da34e4445cda3fffd2e751bd1c4d706f27375911949ba6bb62e1c"
   }
  }
 },
 "nbformat": 4,
 "nbformat_minor": 2
}
