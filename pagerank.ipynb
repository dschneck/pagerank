{
 "cells": [
  {
   "cell_type": "markdown",
   "metadata": {},
   "source": [
    " ### Existing code from the online assignment"
   ]
  },
  {
   "cell_type": "code",
   "execution_count": 162,
   "metadata": {},
   "outputs": [],
   "source": [
    "import os\n",
    "import random\n",
    "import re\n",
    "import sys\n",
    "\n",
    "DAMPING = 0.85\n",
    "SAMPLES = 10000\n",
    "TOLERANCE = 0.001"
   ]
  },
  {
   "cell_type": "code",
   "execution_count": 2,
   "metadata": {},
   "outputs": [],
   "source": [
    "def crawl(directory):\n",
    "    \"\"\"\n",
    "    Parse a directory of HTML pages and check for links to other pages.\n",
    "    Return a dictionary where each key is a page, and values are\n",
    "    a list of all other pages in the corpus that are linked to by the page.\n",
    "    \"\"\"\n",
    "    pages = dict()\n",
    "\n",
    "    # Extract all links from HTML files\n",
    "    for filename in os.listdir(directory):\n",
    "        if not filename.endswith(\".html\"):\n",
    "            continue\n",
    "        with open(os.path.join(directory, filename)) as f:\n",
    "            contents = f.read()\n",
    "            links = re.findall(r\"<a\\s+(?:[^>]*?)href=\\\"([^\\\"]*)\\\"\", contents)\n",
    "            pages[filename] = set(links) - {filename}\n",
    "\n",
    "    # Only include links to other pages in the corpus\n",
    "    for filename in pages:\n",
    "        pages[filename] = set(\n",
    "            link for link in pages[filename]\n",
    "            if link in pages\n",
    "        )\n",
    "\n",
    "    return pages"
   ]
  },
  {
   "cell_type": "code",
   "execution_count": 205,
   "metadata": {},
   "outputs": [],
   "source": [
    "def transition_model(corpus, page, damping_factor):\n",
    "    \"\"\"\n",
    "    Return a probability distribution over which page to visit next,\n",
    "    given a current page.\n",
    "\n",
    "    With probability `damping_factor`, choose a link at random\n",
    "    linked to by `page`. With probability `1 - damping_factor`, choose\n",
    "    a link at random chosen from all pages in the corpus.\n",
    "    \"\"\"\n",
    "    \n",
    "    m = len(corpus[page]) # links out of the page\n",
    "    n = len(corpus) # number of pages \n",
    "    p = 1 - damping_factor\n",
    "    \n",
    "    if m == 0:\n",
    "        temp = {key:1/n for key in corpus}\n",
    "        return temp\n",
    "    \n",
    "    model = {}\n",
    "    \n",
    "    for page in corpus.keys():\n",
    "        model[page] = p * 1/n\n",
    "    \n",
    "    for link in corpus[page]:\n",
    "        model[link] += damping_factor*1/m\n",
    "    \n",
    "    summation = 0\n",
    "    for _,val in model.items():\n",
    "        summation += val\n",
    "    #print(summation)\n",
    "    return model"
   ]
  },
  {
   "cell_type": "code",
   "execution_count": 206,
   "metadata": {},
   "outputs": [],
   "source": [
    "def sample_pagerank(corpus, damping_factor, n):\n",
    "    \"\"\"\n",
    "    Return PageRank values for each page by sampling `n` pages\n",
    "    according to transition model, starting with a page at random.\n",
    "\n",
    "    Return a dictionary where keys are page names, and values are\n",
    "    their estimated PageRank value (a value between 0 and 1). All\n",
    "    PageRank values should sum to 1.\n",
    "    \"\"\"\n",
    "\n",
    "    num_pages = len(corpus)\n",
    "    page_names = list(corpus.keys())\n",
    "    counts = {}\n",
    "    \n",
    "    for page in corpus:\n",
    "        counts[page] = 0\n",
    "        \n",
    "    first_page = page_names[random.randint(0, num_pages-1)]\n",
    "    counts[first_page] += 1\n",
    "        \n",
    "    sample = transition_model(corpus, first_page, damping_factor)\n",
    "    #print(sample)\n",
    "    for _ in range(n-1):\n",
    "        keys = [key for key, _ in sample.items()]\n",
    "        vals = [vals for  _, vals in sample.items()]\n",
    "        \n",
    "        rand_page = random.choices(population=keys, weights=vals, k=1)[0]\n",
    "        counts[rand_page] += 1\n",
    "        \n",
    "        sample = transition_model(corpus, rand_page, damping_factor)\n",
    "    \n",
    "    for page in counts:\n",
    "        counts[page] *= 1/n\n",
    "    return counts"
   ]
  },
  {
   "cell_type": "code",
   "execution_count": 186,
   "metadata": {},
   "outputs": [],
   "source": [
    "def iterate_pagerank(corpus, damping_factor):\n",
    "    \"\"\"\n",
    "    Return PageRank values for each page by iteratively updating\n",
    "    PageRank values until convergence.\n",
    "\n",
    "    Return a dictionary where keys are page names, and values are\n",
    "    their estimated PageRank value (a value between 0 and 1). All\n",
    "    PageRank values should sum to 1.\n",
    "    \"\"\"\n",
    "    # Initialize page ranks at 1/N\n",
    "    num_pages = len(corpus)\n",
    "    page_names = corpus.keys()\n",
    "    ranks = {key: (1 / num_pages) for key in page_names}\n",
    "\n",
    "    # Make pages with no links link to every page\n",
    "    for key in page_names:\n",
    "        if (len(corpus[key]) == 0):\n",
    "            corpus[key] = set(page_names)\n",
    "\n",
    "    # Reorganize a new dict where each key: page has a value: set of pages linking to it\n",
    "    has_links_in = {}\n",
    "    for key in page_names:\n",
    "        linking_pages = set([link for link in page_names if key in corpus[link]])\n",
    "        has_links_in[key] = linking_pages\n",
    "    \n",
    "    while True:\n",
    "        # Calculate the next iteration\n",
    "        new_ranks = {}\n",
    "        for key in page_names:\n",
    "            sum = 0\n",
    "            if (len(has_links_in[key]) > 0):\n",
    "                for i in has_links_in[key]:\n",
    "                    sum += ranks[i] / len(corpus[i])\n",
    "            \n",
    "            new_rank = ((1-damping_factor) / num_pages) + (damping_factor * sum)\n",
    "            new_ranks[key] = new_rank\n",
    "\n",
    "        # Find the difference between old and new pagerank\n",
    "        diff = [abs(a - b) for (a, b) in zip(ranks.values(), new_ranks.values())]\n",
    "        ranks = new_ranks\n",
    "        # Loop until it converges to within TOLERANCE\n",
    "        if (max(diff) < TOLERANCE):\n",
    "            break\n",
    "\n",
    "    return ranks"
   ]
  },
  {
   "cell_type": "code",
   "execution_count": 207,
   "metadata": {},
   "outputs": [
    {
     "ename": "AttributeError",
     "evalue": "'set' object has no attribute 'keys'",
     "output_type": "error",
     "traceback": [
      "\u001b[0;31m---------------------------------------------------------------------------\u001b[0m",
      "\u001b[0;31mAttributeError\u001b[0m                            Traceback (most recent call last)",
      "Input \u001b[0;32mIn [207]\u001b[0m, in \u001b[0;36m<cell line: 16>\u001b[0;34m()\u001b[0m\n\u001b[1;32m     12\u001b[0m     \u001b[38;5;28;01mfor\u001b[39;00m page \u001b[38;5;129;01min\u001b[39;00m \u001b[38;5;28msorted\u001b[39m(ranks):\n\u001b[1;32m     13\u001b[0m         \u001b[38;5;28mprint\u001b[39m(\u001b[38;5;124mf\u001b[39m\u001b[38;5;124m\"\u001b[39m\u001b[38;5;124m  \u001b[39m\u001b[38;5;132;01m{\u001b[39;00mpage\u001b[38;5;132;01m}\u001b[39;00m\u001b[38;5;124m: \u001b[39m\u001b[38;5;132;01m{\u001b[39;00mranks[page]\u001b[38;5;132;01m:\u001b[39;00m\u001b[38;5;124m.4f\u001b[39m\u001b[38;5;132;01m}\u001b[39;00m\u001b[38;5;124m\"\u001b[39m)\n\u001b[0;32m---> 16\u001b[0m \u001b[43mmain\u001b[49m\u001b[43m(\u001b[49m\u001b[43m)\u001b[49m\n",
      "Input \u001b[0;32mIn [207]\u001b[0m, in \u001b[0;36mmain\u001b[0;34m()\u001b[0m\n\u001b[1;32m      3\u001b[0m corpus \u001b[38;5;241m=\u001b[39m crawl(\u001b[38;5;124m\"\u001b[39m\u001b[38;5;124mtestdirectory/corpus2\u001b[39m\u001b[38;5;124m\"\u001b[39m)\n\u001b[1;32m      4\u001b[0m \u001b[38;5;66;03m#print(corpus)\u001b[39;00m\n\u001b[1;32m      5\u001b[0m \u001b[38;5;66;03m#print(transition_model(corpus, '1.html', DAMPING)) \u001b[39;00m\n\u001b[0;32m----> 6\u001b[0m ranks \u001b[38;5;241m=\u001b[39m \u001b[43msample_pagerank\u001b[49m\u001b[43m(\u001b[49m\u001b[43mcorpus\u001b[49m\u001b[43m,\u001b[49m\u001b[43m \u001b[49m\u001b[43mDAMPING\u001b[49m\u001b[43m,\u001b[49m\u001b[43m \u001b[49m\u001b[43mSAMPLES\u001b[49m\u001b[43m)\u001b[49m\n\u001b[1;32m      7\u001b[0m \u001b[38;5;28mprint\u001b[39m(\u001b[38;5;124mf\u001b[39m\u001b[38;5;124m\"\u001b[39m\u001b[38;5;124mPageRank Results from Sampling (n = \u001b[39m\u001b[38;5;132;01m{\u001b[39;00mSAMPLES\u001b[38;5;132;01m}\u001b[39;00m\u001b[38;5;124m)\u001b[39m\u001b[38;5;124m\"\u001b[39m)\n\u001b[1;32m      8\u001b[0m \u001b[38;5;28;01mfor\u001b[39;00m page \u001b[38;5;129;01min\u001b[39;00m \u001b[38;5;28msorted\u001b[39m(ranks):\n",
      "Input \u001b[0;32mIn [206]\u001b[0m, in \u001b[0;36msample_pagerank\u001b[0;34m(corpus, damping_factor, n)\u001b[0m\n\u001b[1;32m     18\u001b[0m first_page \u001b[38;5;241m=\u001b[39m page_names[random\u001b[38;5;241m.\u001b[39mrandint(\u001b[38;5;241m0\u001b[39m, num_pages\u001b[38;5;241m-\u001b[39m\u001b[38;5;241m1\u001b[39m)]\n\u001b[1;32m     19\u001b[0m counts[first_page] \u001b[38;5;241m+\u001b[39m\u001b[38;5;241m=\u001b[39m \u001b[38;5;241m1\u001b[39m\n\u001b[0;32m---> 21\u001b[0m sample \u001b[38;5;241m=\u001b[39m \u001b[43mtransition_model\u001b[49m\u001b[43m(\u001b[49m\u001b[43mcorpus\u001b[49m\u001b[43m,\u001b[49m\u001b[43m \u001b[49m\u001b[43mfirst_page\u001b[49m\u001b[43m,\u001b[49m\u001b[43m \u001b[49m\u001b[43mdamping_factor\u001b[49m\u001b[43m)\u001b[49m\n\u001b[1;32m     22\u001b[0m \u001b[38;5;66;03m#print(sample)\u001b[39;00m\n\u001b[1;32m     23\u001b[0m \u001b[38;5;28;01mfor\u001b[39;00m _ \u001b[38;5;129;01min\u001b[39;00m \u001b[38;5;28mrange\u001b[39m(n\u001b[38;5;241m-\u001b[39m\u001b[38;5;241m1\u001b[39m):\n",
      "Input \u001b[0;32mIn [205]\u001b[0m, in \u001b[0;36mtransition_model\u001b[0;34m(corpus, page, damping_factor)\u001b[0m\n\u001b[1;32m      1\u001b[0m \u001b[38;5;28;01mdef\u001b[39;00m \u001b[38;5;21mtransition_model\u001b[39m(corpus, page, damping_factor):\n\u001b[1;32m      2\u001b[0m     \u001b[38;5;124;03m\"\"\"\u001b[39;00m\n\u001b[1;32m      3\u001b[0m \u001b[38;5;124;03m    Return a probability distribution over which page to visit next,\u001b[39;00m\n\u001b[1;32m      4\u001b[0m \u001b[38;5;124;03m    given a current page.\u001b[39;00m\n\u001b[0;32m   (...)\u001b[0m\n\u001b[1;32m      8\u001b[0m \u001b[38;5;124;03m    a link at random chosen from all pages in the corpus.\u001b[39;00m\n\u001b[1;32m      9\u001b[0m \u001b[38;5;124;03m    \"\"\"\u001b[39;00m\n\u001b[0;32m---> 11\u001b[0m     m \u001b[38;5;241m=\u001b[39m \u001b[38;5;28mlen\u001b[39m(\u001b[43mcorpus\u001b[49m\u001b[43m[\u001b[49m\u001b[43mpage\u001b[49m\u001b[43m]\u001b[49m\u001b[38;5;241;43m.\u001b[39;49m\u001b[43mkeys\u001b[49m()) \u001b[38;5;66;03m# links out of the page\u001b[39;00m\n\u001b[1;32m     12\u001b[0m     n \u001b[38;5;241m=\u001b[39m \u001b[38;5;28mlen\u001b[39m(corpus\u001b[38;5;241m.\u001b[39mkeys()) \u001b[38;5;66;03m# number of pages \u001b[39;00m\n\u001b[1;32m     13\u001b[0m     p \u001b[38;5;241m=\u001b[39m \u001b[38;5;241m1\u001b[39m \u001b[38;5;241m-\u001b[39m damping_factor\n",
      "\u001b[0;31mAttributeError\u001b[0m: 'set' object has no attribute 'keys'"
     ]
    }
   ],
   "source": [
    "def main():\n",
    "\n",
    "    corpus = crawl(\"testdirectory/corpus2\")\n",
    "    #print(corpus)\n",
    "    #print(transition_model(corpus, '1.html', DAMPING)) \n",
    "    ranks = sample_pagerank(corpus, DAMPING, SAMPLES)\n",
    "    print(f\"PageRank Results from Sampling (n = {SAMPLES})\")\n",
    "    for page in sorted(ranks):\n",
    "        print(f\"  {page}: {ranks[page]:.4f}\")\n",
    "    ranks = iterate_pagerank(corpus, DAMPING)\n",
    "    print(f\"PageRank Results from Iteration\")\n",
    "    for page in sorted(ranks):\n",
    "        print(f\"  {page}: {ranks[page]:.4f}\")\n",
    "\n",
    "\n",
    "main()"
   ]
  },
  {
   "cell_type": "code",
   "execution_count": null,
   "metadata": {},
   "outputs": [],
   "source": []
  }
 ],
 "metadata": {
  "kernelspec": {
   "display_name": "Python 3 (ipykernel)",
   "language": "python",
   "name": "python3"
  },
  "language_info": {
   "codemirror_mode": {
    "name": "ipython",
    "version": 3
   },
   "file_extension": ".py",
   "mimetype": "text/x-python",
   "name": "python",
   "nbconvert_exporter": "python",
   "pygments_lexer": "ipython3",
   "version": "3.10.6"
  },
  "vscode": {
   "interpreter": {
    "hash": "369f2c481f4da34e4445cda3fffd2e751bd1c4d706f27375911949ba6bb62e1c"
   }
  }
 },
 "nbformat": 4,
 "nbformat_minor": 2
}
